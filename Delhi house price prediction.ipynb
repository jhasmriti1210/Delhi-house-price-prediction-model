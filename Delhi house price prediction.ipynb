{
 "cells": [
  {
   "cell_type": "code",
   "execution_count": 1,
   "id": "ea76d985-4f0d-475c-9194-894866b29c6c",
   "metadata": {},
   "outputs": [],
   "source": [
    "import pandas as pd\n",
    "import numpy as np\n",
    "import matplotlib.pyplot as plt"
   ]
  },
  {
   "cell_type": "code",
   "execution_count": 2,
   "id": "a992feee-49c8-4bc7-8b2d-d8c402b14343",
   "metadata": {},
   "outputs": [
    {
     "data": {
      "text/html": [
       "<div>\n",
       "<style scoped>\n",
       "    .dataframe tbody tr th:only-of-type {\n",
       "        vertical-align: middle;\n",
       "    }\n",
       "\n",
       "    .dataframe tbody tr th {\n",
       "        vertical-align: top;\n",
       "    }\n",
       "\n",
       "    .dataframe thead th {\n",
       "        text-align: right;\n",
       "    }\n",
       "</style>\n",
       "<table border=\"1\" class=\"dataframe\">\n",
       "  <thead>\n",
       "    <tr style=\"text-align: right;\">\n",
       "      <th></th>\n",
       "      <th>area_type</th>\n",
       "      <th>availability</th>\n",
       "      <th>location</th>\n",
       "      <th>size(in BHK)</th>\n",
       "      <th>total_sqft</th>\n",
       "      <th>per_Sqft</th>\n",
       "      <th>bath</th>\n",
       "      <th>furnishing</th>\n",
       "      <th>transaction</th>\n",
       "      <th>parking</th>\n",
       "      <th>price</th>\n",
       "    </tr>\n",
       "  </thead>\n",
       "  <tbody>\n",
       "    <tr>\n",
       "      <th>0</th>\n",
       "      <td>Builder_Floor</td>\n",
       "      <td>Ready_to_move</td>\n",
       "      <td>Rohini Sector 25</td>\n",
       "      <td>3</td>\n",
       "      <td>800.0</td>\n",
       "      <td>NaN</td>\n",
       "      <td>2.0</td>\n",
       "      <td>Semi-Furnished</td>\n",
       "      <td>New_Property</td>\n",
       "      <td>1.0</td>\n",
       "      <td>6500000</td>\n",
       "    </tr>\n",
       "    <tr>\n",
       "      <th>1</th>\n",
       "      <td>Apartment</td>\n",
       "      <td>Ready_to_move</td>\n",
       "      <td>J R Designers Floors, Rohini Sector 24</td>\n",
       "      <td>2</td>\n",
       "      <td>750.0</td>\n",
       "      <td>6667.0</td>\n",
       "      <td>2.0</td>\n",
       "      <td>Semi-Furnished</td>\n",
       "      <td>New_Property</td>\n",
       "      <td>1.0</td>\n",
       "      <td>5000000</td>\n",
       "    </tr>\n",
       "    <tr>\n",
       "      <th>2</th>\n",
       "      <td>Apartment</td>\n",
       "      <td>Ready_to_move</td>\n",
       "      <td>Citizen Apartment, Rohini Sector 13</td>\n",
       "      <td>2</td>\n",
       "      <td>950.0</td>\n",
       "      <td>6667.0</td>\n",
       "      <td>2.0</td>\n",
       "      <td>Furnished</td>\n",
       "      <td>Resale</td>\n",
       "      <td>1.0</td>\n",
       "      <td>15500000</td>\n",
       "    </tr>\n",
       "    <tr>\n",
       "      <th>3</th>\n",
       "      <td>Builder_Floor</td>\n",
       "      <td>Ready_to_move</td>\n",
       "      <td>Rohini Sector 24</td>\n",
       "      <td>2</td>\n",
       "      <td>600.0</td>\n",
       "      <td>6667.0</td>\n",
       "      <td>2.0</td>\n",
       "      <td>Semi-Furnished</td>\n",
       "      <td>Resale</td>\n",
       "      <td>1.0</td>\n",
       "      <td>4200000</td>\n",
       "    </tr>\n",
       "    <tr>\n",
       "      <th>4</th>\n",
       "      <td>Builder_Floor</td>\n",
       "      <td>Ready_to_move</td>\n",
       "      <td>Rohini Sector 24</td>\n",
       "      <td>2</td>\n",
       "      <td>650.0</td>\n",
       "      <td>6667.0</td>\n",
       "      <td>2.0</td>\n",
       "      <td>Semi-Furnished</td>\n",
       "      <td>New_Property</td>\n",
       "      <td>1.0</td>\n",
       "      <td>6200000</td>\n",
       "    </tr>\n",
       "  </tbody>\n",
       "</table>\n",
       "</div>"
      ],
      "text/plain": [
       "       area_type   availability                                location  \\\n",
       "0  Builder_Floor  Ready_to_move                        Rohini Sector 25   \n",
       "1      Apartment  Ready_to_move  J R Designers Floors, Rohini Sector 24   \n",
       "2      Apartment  Ready_to_move     Citizen Apartment, Rohini Sector 13   \n",
       "3  Builder_Floor  Ready_to_move                        Rohini Sector 24   \n",
       "4  Builder_Floor  Ready_to_move                       Rohini Sector 24    \n",
       "\n",
       "   size(in BHK)  total_sqft  per_Sqft  bath      furnishing   transaction  \\\n",
       "0             3       800.0       NaN   2.0  Semi-Furnished  New_Property   \n",
       "1             2       750.0    6667.0   2.0  Semi-Furnished  New_Property   \n",
       "2             2       950.0    6667.0   2.0       Furnished        Resale   \n",
       "3             2       600.0    6667.0   2.0  Semi-Furnished        Resale   \n",
       "4             2       650.0    6667.0   2.0  Semi-Furnished  New_Property   \n",
       "\n",
       "   parking     price  \n",
       "0      1.0   6500000  \n",
       "1      1.0   5000000  \n",
       "2      1.0  15500000  \n",
       "3      1.0   4200000  \n",
       "4      1.0   6200000  "
      ]
     },
     "execution_count": 2,
     "metadata": {},
     "output_type": "execute_result"
    }
   ],
   "source": [
    "dataset_1 = pd.read_csv('data.csv')\n",
    "dataset_1.head()"
   ]
  },
  {
   "cell_type": "code",
   "execution_count": 5,
   "id": "595b046e-001e-4a8c-9335-8ead9301dae4",
   "metadata": {},
   "outputs": [
    {
     "data": {
      "text/plain": [
       "(1258, 11)"
      ]
     },
     "execution_count": 5,
     "metadata": {},
     "output_type": "execute_result"
    }
   ],
   "source": [
    "dataset_1.shape"
   ]
  },
  {
   "cell_type": "code",
   "execution_count": 7,
   "id": "bddb3a50-0683-43cb-bc0d-1a835fad6827",
   "metadata": {},
   "outputs": [
    {
     "data": {
      "text/plain": [
       "area_type\n",
       "Apartment        593\n",
       "Builder_Floor    660\n",
       "Name: area_type, dtype: int64"
      ]
     },
     "execution_count": 7,
     "metadata": {},
     "output_type": "execute_result"
    }
   ],
   "source": [
    "dataset_1.groupby('area_type')['area_type'].agg('count')"
   ]
  },
  {
   "cell_type": "code",
   "execution_count": 9,
   "id": "40382d7f-ce0c-4b44-a4c6-1174b998355b",
   "metadata": {},
   "outputs": [
    {
     "data": {
      "text/html": [
       "<div>\n",
       "<style scoped>\n",
       "    .dataframe tbody tr th:only-of-type {\n",
       "        vertical-align: middle;\n",
       "    }\n",
       "\n",
       "    .dataframe tbody tr th {\n",
       "        vertical-align: top;\n",
       "    }\n",
       "\n",
       "    .dataframe thead th {\n",
       "        text-align: right;\n",
       "    }\n",
       "</style>\n",
       "<table border=\"1\" class=\"dataframe\">\n",
       "  <thead>\n",
       "    <tr style=\"text-align: right;\">\n",
       "      <th></th>\n",
       "      <th>location</th>\n",
       "      <th>size(in BHK)</th>\n",
       "      <th>total_sqft</th>\n",
       "      <th>bath</th>\n",
       "      <th>price</th>\n",
       "    </tr>\n",
       "  </thead>\n",
       "  <tbody>\n",
       "    <tr>\n",
       "      <th>0</th>\n",
       "      <td>Rohini Sector 25</td>\n",
       "      <td>3</td>\n",
       "      <td>800.0</td>\n",
       "      <td>2.0</td>\n",
       "      <td>6500000</td>\n",
       "    </tr>\n",
       "    <tr>\n",
       "      <th>1</th>\n",
       "      <td>J R Designers Floors, Rohini Sector 24</td>\n",
       "      <td>2</td>\n",
       "      <td>750.0</td>\n",
       "      <td>2.0</td>\n",
       "      <td>5000000</td>\n",
       "    </tr>\n",
       "    <tr>\n",
       "      <th>2</th>\n",
       "      <td>Citizen Apartment, Rohini Sector 13</td>\n",
       "      <td>2</td>\n",
       "      <td>950.0</td>\n",
       "      <td>2.0</td>\n",
       "      <td>15500000</td>\n",
       "    </tr>\n",
       "    <tr>\n",
       "      <th>3</th>\n",
       "      <td>Rohini Sector 24</td>\n",
       "      <td>2</td>\n",
       "      <td>600.0</td>\n",
       "      <td>2.0</td>\n",
       "      <td>4200000</td>\n",
       "    </tr>\n",
       "    <tr>\n",
       "      <th>4</th>\n",
       "      <td>Rohini Sector 24</td>\n",
       "      <td>2</td>\n",
       "      <td>650.0</td>\n",
       "      <td>2.0</td>\n",
       "      <td>6200000</td>\n",
       "    </tr>\n",
       "  </tbody>\n",
       "</table>\n",
       "</div>"
      ],
      "text/plain": [
       "                                 location  size(in BHK)  total_sqft  bath  \\\n",
       "0                        Rohini Sector 25             3       800.0   2.0   \n",
       "1  J R Designers Floors, Rohini Sector 24             2       750.0   2.0   \n",
       "2     Citizen Apartment, Rohini Sector 13             2       950.0   2.0   \n",
       "3                        Rohini Sector 24             2       600.0   2.0   \n",
       "4                       Rohini Sector 24              2       650.0   2.0   \n",
       "\n",
       "      price  \n",
       "0   6500000  \n",
       "1   5000000  \n",
       "2  15500000  \n",
       "3   4200000  \n",
       "4   6200000  "
      ]
     },
     "execution_count": 9,
     "metadata": {},
     "output_type": "execute_result"
    }
   ],
   "source": [
    "dataset_2 = dataset_1.drop(['area_type','availability','per_Sqft','furnishing','transaction','parking'], axis='columns')\n",
    "dataset_2.head()"
   ]
  },
  {
   "cell_type": "code",
   "execution_count": 11,
   "id": "01619cac-11f0-43bc-9495-063220334859",
   "metadata": {},
   "outputs": [
    {
     "data": {
      "text/plain": [
       "(1258, 5)"
      ]
     },
     "execution_count": 11,
     "metadata": {},
     "output_type": "execute_result"
    }
   ],
   "source": [
    "dataset_2.shape"
   ]
  },
  {
   "cell_type": "code",
   "execution_count": 13,
   "id": "4845bfae-65a2-43bd-813c-2c0efcacf4d4",
   "metadata": {},
   "outputs": [
    {
     "data": {
      "text/plain": [
       "location        0\n",
       "size(in BHK)    0\n",
       "total_sqft      0\n",
       "bath            2\n",
       "price           0\n",
       "dtype: int64"
      ]
     },
     "execution_count": 13,
     "metadata": {},
     "output_type": "execute_result"
    }
   ],
   "source": [
    "dataset_2.isnull().sum()"
   ]
  },
  {
   "cell_type": "code",
   "execution_count": 15,
   "id": "9776a3f5-ded3-404f-8791-b0375ea1e6c4",
   "metadata": {},
   "outputs": [
    {
     "data": {
      "text/plain": [
       "location        0\n",
       "size(in BHK)    0\n",
       "total_sqft      0\n",
       "bath            0\n",
       "price           0\n",
       "dtype: int64"
      ]
     },
     "execution_count": 15,
     "metadata": {},
     "output_type": "execute_result"
    }
   ],
   "source": [
    "dataset_3 = dataset_2.dropna()\n",
    "dataset_3.isnull().sum()"
   ]
  },
  {
   "cell_type": "code",
   "execution_count": 17,
   "id": "f5ad70df-4295-437f-b357-687bc75bfce2",
   "metadata": {},
   "outputs": [
    {
     "data": {
      "text/plain": [
       "(1256, 5)"
      ]
     },
     "execution_count": 17,
     "metadata": {},
     "output_type": "execute_result"
    }
   ],
   "source": [
    "dataset_3.shape"
   ]
  },
  {
   "cell_type": "code",
   "execution_count": 19,
   "id": "d9d6ba61-136a-4db5-ae22-2361655cbc5b",
   "metadata": {},
   "outputs": [
    {
     "data": {
      "text/plain": [
       "array([ 3,  2,  4,  1,  6,  5,  7, 10], dtype=int64)"
      ]
     },
     "execution_count": 19,
     "metadata": {},
     "output_type": "execute_result"
    }
   ],
   "source": [
    "dataset_3['size(in BHK)'].unique()"
   ]
  },
  {
   "cell_type": "code",
   "execution_count": 21,
   "id": "d0efdda0-4c5e-4f73-b839-cd388a9267cc",
   "metadata": {},
   "outputs": [
    {
     "data": {
      "text/plain": [
       "array([  800.    ,   750.    ,   950.    ,   600.    ,   650.    ,\n",
       "        1300.    ,  1350.    ,   985.    ,  1100.    ,   870.    ,\n",
       "         630.    ,   660.    ,   344.4448,   550.    ,  1150.    ,\n",
       "         850.    ,   900.    ,   430.556 ,   914.9315,   500.    ,\n",
       "          28.    ,  2160.    ,  1080.    ,  1450.    ,   810.    ,\n",
       "        1710.    ,  1650.    ,  1280.    ,  1260.    ,  1130.    ,\n",
       "        1500.    ,  1000.    ,  2925.    ,  1600.    ,  1143.    ,\n",
       "        8000.    ,   890.    ,  1387.    ,  1050.    ,  1200.    ,\n",
       "         700.    ,  1700.    ,  1550.    ,  1400.    ,  1900.    ,\n",
       "        1850.    ,  1800.    ,  1620.    ,  1540.    ,  2300.    ,\n",
       "        1560.    ,   400.    ,  1525.    ,  2200.    ,  2880.    ,\n",
       "        2700.    ,  1575.    ,  1675.    ,   825.    ,   875.    ,\n",
       "         450.    ,   100.    ,    75.    ,   270.    ,   444.    ,\n",
       "         729.    ,  4050.    ,  2400.    ,   405.    ,   666.    ,\n",
       "        1360.    ,  2170.    ,   720.    ,  1030.    ,   350.    ,\n",
       "         980.    ,   445.    ,   380.    ,   680.    ,  2500.    ,\n",
       "        2800.    ,   300.    ,  1295.    ,  4688.    ,  3901.    ,\n",
       "         540.    ,   976.    ,  2900.    ,  5025.    ,  1135.    ,\n",
       "        2306.    , 22050.    ,    45.    ,  3510.    ,  4500.    ,\n",
       "        6000.    ,  4300.    ,  2450.    , 10350.    ,  4800.    ,\n",
       "        3500.    ,  2100.    ,  4200.    ,  8150.    ,  2070.    ,\n",
       "        2000.    ,  2550.    ,  7200.    ,  2799.    ,  2650.    ,\n",
       "        1440.    ,  3150.    ,  3690.    ,  2177.    ,  2150.    ,\n",
       "        2107.    ,  1240.    ,  3000.    ,   970.    ,  1425.    ,\n",
       "         440.    ,  1017.    ,   990.    ,   675.    ,   558.    ,\n",
       "         360.    ,   846.    ,   495.1394,  1053.    ,   747.    ,\n",
       "         376.7365,  1125.    ,   713.    ,   504.    ,    70.    ,\n",
       "        2430.    ,  2475.    ,  2970.    ,  2250.    ,  1512.    ,\n",
       "         324.    ,   801.    ,   420.    ,   387.    ,   441.    ,\n",
       "         715.    ,   312.    ,   780.    ,   495.    ,   620.    ,\n",
       "         805.    ,  1001.    ,   585.    ,   765.    ,  1680.    ,\n",
       "        1530.    ,   140.    ,   200.    ,  1782.    ,    66.    ,\n",
       "        1075.    ,  1750.    ,  1184.    ,  1250.    ,    65.    ,\n",
       "        2210.    ,   760.    ,   904.1676,    50.    ,    58.    ,\n",
       "         852.    ,  2600.    ,  2050.    ,  1674.    ,  2025.    ,\n",
       "       24300.    ,  2035.    ,   150.    ,  3250.    ,  4000.    ,\n",
       "        5500.    ,   972.    ,  4150.    ,  2610.    ,   880.    ,\n",
       "        1078.    ,  1818.    ,   807.2925,  2152.78  ,   960.    ,\n",
       "         378.    ,  1580.    ,   820.    ,   594.    , 14220.    ,\n",
       "        1470.    ,  1480.    ,  1214.    ,  1380.    ,  1585.    ,\n",
       "        3050.    ,  3405.    ,  2105.    ,  2090.    ,  2525.    ,\n",
       "        2022.    ,  2552.    ,  3112.    ,  2125.    ,  2065.    ,\n",
       "        1455.    ,  3400.    ,  3100.    ,  2126.    ,  1815.    ,\n",
       "         968.751 ,  1320.    ,  3600.    ,  1305.    ,  1175.    ,\n",
       "         725.    ,  1035.    ,   580.    ,  1170.    ,   855.    ,\n",
       "        1044.0983,   173.    ,   527.    ,   770.    ,   710.    ,\n",
       "         945.    ,   565.    ,   430.    ,   459.    ,   559.7228,\n",
       "         365.    ,   390.    ,   210.    ,   379.    ,   236.8058,\n",
       "         452.0838,   437.    ,    61.    ,   198.    ,  4900.    ,\n",
       "        2077.4327,   425.    ,  2750.    ,  2316.    ,  1290.    ,\n",
       "        1076.39  ,   460.    ,   370.    ,   975.    ,  1459.    ,\n",
       "        1460.    ,   979.5149,  1531.    ,    35.    ,  2907.    ,\n",
       "        2518.7526,   588.    ,  1775.    ,  1252.    ,   530.    ,\n",
       "        1332.    ,   987.    ,  1912.    ,  5236.    ,  2805.    ,\n",
       "         576.    ,  1206.    ,   345.    ,   468.    ,   535.    ,\n",
       "        1501.    ,  3002.    ,  1429.    ,  1646.    ,  1590.    ,\n",
       "        2282.    ,  1457.    ,  2175.    ,   861.112 ,  1753.    ,\n",
       "        2659.    ,   702.    ,  1138.    ,  1291.668 ,  2592.    ,\n",
       "        1640.    ,  2572.    ,  2445.    ,  5220.    ,  4455.    ,\n",
       "         195.    , 17010.    ,  2340.    ,   464.    ,   954.    ,\n",
       "        1155.    ,  1485.    ,  1070.    ,  2520.    ,  2066.    ,\n",
       "        6500.    ,  4350.    ,  1980.    ,  5400.    ,  2097.    ,\n",
       "        1116.    ,  2625.    ,   125.    ,  4118.    , 11050.    ])"
      ]
     },
     "execution_count": 21,
     "metadata": {},
     "output_type": "execute_result"
    }
   ],
   "source": [
    "dataset_3.total_sqft.unique()"
   ]
  },
  {
   "cell_type": "code",
   "execution_count": 23,
   "id": "955465ad-e0f3-4bbd-af1c-cf4614e93daf",
   "metadata": {},
   "outputs": [
    {
     "name": "stderr",
     "output_type": "stream",
     "text": [
      "C:\\Users\\91838\\AppData\\Local\\Temp\\ipykernel_23900\\1594493623.py:1: SettingWithCopyWarning: \n",
      "A value is trying to be set on a copy of a slice from a DataFrame.\n",
      "Try using .loc[row_indexer,col_indexer] = value instead\n",
      "\n",
      "See the caveats in the documentation: https://pandas.pydata.org/pandas-docs/stable/user_guide/indexing.html#returning-a-view-versus-a-copy\n",
      "  dataset_3.loc[:, 'price_per_sqft'] = dataset_3['price']/ dataset_3['total_sqft'].astype(float)\n"
     ]
    },
    {
     "data": {
      "text/html": [
       "<div>\n",
       "<style scoped>\n",
       "    .dataframe tbody tr th:only-of-type {\n",
       "        vertical-align: middle;\n",
       "    }\n",
       "\n",
       "    .dataframe tbody tr th {\n",
       "        vertical-align: top;\n",
       "    }\n",
       "\n",
       "    .dataframe thead th {\n",
       "        text-align: right;\n",
       "    }\n",
       "</style>\n",
       "<table border=\"1\" class=\"dataframe\">\n",
       "  <thead>\n",
       "    <tr style=\"text-align: right;\">\n",
       "      <th></th>\n",
       "      <th>location</th>\n",
       "      <th>size(in BHK)</th>\n",
       "      <th>total_sqft</th>\n",
       "      <th>bath</th>\n",
       "      <th>price</th>\n",
       "      <th>price_per_sqft</th>\n",
       "    </tr>\n",
       "  </thead>\n",
       "  <tbody>\n",
       "    <tr>\n",
       "      <th>0</th>\n",
       "      <td>Rohini Sector 25</td>\n",
       "      <td>3</td>\n",
       "      <td>800.00</td>\n",
       "      <td>2.00</td>\n",
       "      <td>6500000</td>\n",
       "      <td>8125.00</td>\n",
       "    </tr>\n",
       "    <tr>\n",
       "      <th>1</th>\n",
       "      <td>J R Designers Floors, Rohini Sector 24</td>\n",
       "      <td>2</td>\n",
       "      <td>750.00</td>\n",
       "      <td>2.00</td>\n",
       "      <td>5000000</td>\n",
       "      <td>6666.67</td>\n",
       "    </tr>\n",
       "    <tr>\n",
       "      <th>2</th>\n",
       "      <td>Citizen Apartment, Rohini Sector 13</td>\n",
       "      <td>2</td>\n",
       "      <td>950.00</td>\n",
       "      <td>2.00</td>\n",
       "      <td>15500000</td>\n",
       "      <td>16315.79</td>\n",
       "    </tr>\n",
       "    <tr>\n",
       "      <th>3</th>\n",
       "      <td>Rohini Sector 24</td>\n",
       "      <td>2</td>\n",
       "      <td>600.00</td>\n",
       "      <td>2.00</td>\n",
       "      <td>4200000</td>\n",
       "      <td>7000.00</td>\n",
       "    </tr>\n",
       "    <tr>\n",
       "      <th>4</th>\n",
       "      <td>Rohini Sector 24</td>\n",
       "      <td>2</td>\n",
       "      <td>650.00</td>\n",
       "      <td>2.00</td>\n",
       "      <td>6200000</td>\n",
       "      <td>9538.46</td>\n",
       "    </tr>\n",
       "  </tbody>\n",
       "</table>\n",
       "</div>"
      ],
      "text/plain": [
       "                                 location  size(in BHK)  total_sqft  bath  \\\n",
       "0                        Rohini Sector 25             3      800.00  2.00   \n",
       "1  J R Designers Floors, Rohini Sector 24             2      750.00  2.00   \n",
       "2     Citizen Apartment, Rohini Sector 13             2      950.00  2.00   \n",
       "3                        Rohini Sector 24             2      600.00  2.00   \n",
       "4                       Rohini Sector 24              2      650.00  2.00   \n",
       "\n",
       "      price  price_per_sqft  \n",
       "0   6500000         8125.00  \n",
       "1   5000000         6666.67  \n",
       "2  15500000        16315.79  \n",
       "3   4200000         7000.00  \n",
       "4   6200000         9538.46  "
      ]
     },
     "execution_count": 23,
     "metadata": {},
     "output_type": "execute_result"
    }
   ],
   "source": [
    "dataset_3.loc[:, 'price_per_sqft'] = dataset_3['price']/ dataset_3['total_sqft'].astype(float)\n",
    "pd.set_option('display.float_format', '{:.2f}'.format)\n",
    "dataset_3.head()"
   ]
  },
  {
   "cell_type": "code",
   "execution_count": 25,
   "id": "29fe7db9-22f2-4ea9-8ef7-f3527975033d",
   "metadata": {},
   "outputs": [
    {
     "data": {
      "text/plain": [
       "353"
      ]
     },
     "execution_count": 25,
     "metadata": {},
     "output_type": "execute_result"
    }
   ],
   "source": [
    "len(dataset_3.location.unique())"
   ]
  },
  {
   "cell_type": "code",
   "execution_count": 27,
   "id": "09f09348-64b1-443b-8be7-7b01974cff4e",
   "metadata": {},
   "outputs": [
    {
     "data": {
      "text/html": [
       "<div>\n",
       "<style scoped>\n",
       "    .dataframe tbody tr th:only-of-type {\n",
       "        vertical-align: middle;\n",
       "    }\n",
       "\n",
       "    .dataframe tbody tr th {\n",
       "        vertical-align: top;\n",
       "    }\n",
       "\n",
       "    .dataframe thead th {\n",
       "        text-align: right;\n",
       "    }\n",
       "</style>\n",
       "<table border=\"1\" class=\"dataframe\">\n",
       "  <thead>\n",
       "    <tr style=\"text-align: right;\">\n",
       "      <th></th>\n",
       "      <th>location</th>\n",
       "      <th>size(in BHK)</th>\n",
       "      <th>total_sqft</th>\n",
       "      <th>bath</th>\n",
       "      <th>price</th>\n",
       "      <th>price_per_sqft</th>\n",
       "    </tr>\n",
       "  </thead>\n",
       "  <tbody>\n",
       "    <tr>\n",
       "      <th>0</th>\n",
       "      <td>Rohini Sector 25</td>\n",
       "      <td>3</td>\n",
       "      <td>800.00</td>\n",
       "      <td>2.00</td>\n",
       "      <td>6500000</td>\n",
       "      <td>8125.00</td>\n",
       "    </tr>\n",
       "    <tr>\n",
       "      <th>1</th>\n",
       "      <td>J R Designers Floors, Rohini Sector 24</td>\n",
       "      <td>2</td>\n",
       "      <td>750.00</td>\n",
       "      <td>2.00</td>\n",
       "      <td>5000000</td>\n",
       "      <td>6666.67</td>\n",
       "    </tr>\n",
       "    <tr>\n",
       "      <th>2</th>\n",
       "      <td>Citizen Apartment, Rohini Sector 13</td>\n",
       "      <td>2</td>\n",
       "      <td>950.00</td>\n",
       "      <td>2.00</td>\n",
       "      <td>15500000</td>\n",
       "      <td>16315.79</td>\n",
       "    </tr>\n",
       "    <tr>\n",
       "      <th>3</th>\n",
       "      <td>Rohini Sector 24</td>\n",
       "      <td>2</td>\n",
       "      <td>600.00</td>\n",
       "      <td>2.00</td>\n",
       "      <td>4200000</td>\n",
       "      <td>7000.00</td>\n",
       "    </tr>\n",
       "    <tr>\n",
       "      <th>4</th>\n",
       "      <td>Rohini Sector 24</td>\n",
       "      <td>2</td>\n",
       "      <td>650.00</td>\n",
       "      <td>2.00</td>\n",
       "      <td>6200000</td>\n",
       "      <td>9538.46</td>\n",
       "    </tr>\n",
       "    <tr>\n",
       "      <th>...</th>\n",
       "      <td>...</td>\n",
       "      <td>...</td>\n",
       "      <td>...</td>\n",
       "      <td>...</td>\n",
       "      <td>...</td>\n",
       "      <td>...</td>\n",
       "    </tr>\n",
       "    <tr>\n",
       "      <th>1253</th>\n",
       "      <td>Chittaranjan Park</td>\n",
       "      <td>4</td>\n",
       "      <td>4118.00</td>\n",
       "      <td>5.00</td>\n",
       "      <td>55000000</td>\n",
       "      <td>13356.00</td>\n",
       "    </tr>\n",
       "    <tr>\n",
       "      <th>1254</th>\n",
       "      <td>Chittaranjan Park</td>\n",
       "      <td>3</td>\n",
       "      <td>1050.00</td>\n",
       "      <td>2.00</td>\n",
       "      <td>12500000</td>\n",
       "      <td>11904.76</td>\n",
       "    </tr>\n",
       "    <tr>\n",
       "      <th>1255</th>\n",
       "      <td>Chittaranjan Park</td>\n",
       "      <td>3</td>\n",
       "      <td>875.00</td>\n",
       "      <td>3.00</td>\n",
       "      <td>17500000</td>\n",
       "      <td>20000.00</td>\n",
       "    </tr>\n",
       "    <tr>\n",
       "      <th>1256</th>\n",
       "      <td>Chittaranjan Park Block A</td>\n",
       "      <td>2</td>\n",
       "      <td>990.00</td>\n",
       "      <td>2.00</td>\n",
       "      <td>11500000</td>\n",
       "      <td>11616.16</td>\n",
       "    </tr>\n",
       "    <tr>\n",
       "      <th>1257</th>\n",
       "      <td>Chittaranjan Park</td>\n",
       "      <td>3</td>\n",
       "      <td>11050.00</td>\n",
       "      <td>3.00</td>\n",
       "      <td>18500000</td>\n",
       "      <td>1674.21</td>\n",
       "    </tr>\n",
       "  </tbody>\n",
       "</table>\n",
       "<p>1256 rows × 6 columns</p>\n",
       "</div>"
      ],
      "text/plain": [
       "                                    location  size(in BHK)  total_sqft  bath  \\\n",
       "0                           Rohini Sector 25             3      800.00  2.00   \n",
       "1     J R Designers Floors, Rohini Sector 24             2      750.00  2.00   \n",
       "2        Citizen Apartment, Rohini Sector 13             2      950.00  2.00   \n",
       "3                           Rohini Sector 24             2      600.00  2.00   \n",
       "4                          Rohini Sector 24              2      650.00  2.00   \n",
       "...                                      ...           ...         ...   ...   \n",
       "1253                       Chittaranjan Park             4     4118.00  5.00   \n",
       "1254                       Chittaranjan Park             3     1050.00  2.00   \n",
       "1255                       Chittaranjan Park             3      875.00  3.00   \n",
       "1256               Chittaranjan Park Block A             2      990.00  2.00   \n",
       "1257                       Chittaranjan Park             3    11050.00  3.00   \n",
       "\n",
       "         price  price_per_sqft  \n",
       "0      6500000         8125.00  \n",
       "1      5000000         6666.67  \n",
       "2     15500000        16315.79  \n",
       "3      4200000         7000.00  \n",
       "4      6200000         9538.46  \n",
       "...        ...             ...  \n",
       "1253  55000000        13356.00  \n",
       "1254  12500000        11904.76  \n",
       "1255  17500000        20000.00  \n",
       "1256  11500000        11616.16  \n",
       "1257  18500000         1674.21  \n",
       "\n",
       "[1256 rows x 6 columns]"
      ]
     },
     "execution_count": 27,
     "metadata": {},
     "output_type": "execute_result"
    }
   ],
   "source": [
    "dataset_3.head(1260)"
   ]
  },
  {
   "cell_type": "code",
   "execution_count": 29,
   "id": "63d9c645-b274-4c8f-8902-801566572aa2",
   "metadata": {},
   "outputs": [
    {
     "name": "stdout",
     "output_type": "stream",
     "text": [
      "location\n",
      "Lajpat Nagar 3                                          34\n",
      "Lajpat Nagar 2                                          31\n",
      "J R Designers Floors, Rohini Sector 24                  31\n",
      "Kailash Colony, Greater Kailash                         30\n",
      "Yamuna Vihar, Shahdara                                  29\n",
      "                                                        ..\n",
      "Defence Officers Apartment, Aashirwaad Chowk, Dwarka     1\n",
      "Dda Janta Flats, Kalkaji                                 1\n",
      "Patel Nagar South, Patel Nagar                           1\n",
      "Dayanand Colony, Lajpat Nagar                            1\n",
      "Zakir Nagar, New Friends Colony                          1\n",
      "Name: location, Length: 330, dtype: int64\n"
     ]
    },
    {
     "name": "stderr",
     "output_type": "stream",
     "text": [
      "C:\\Users\\91838\\AppData\\Local\\Temp\\ipykernel_23900\\1652721628.py:1: SettingWithCopyWarning: \n",
      "A value is trying to be set on a copy of a slice from a DataFrame.\n",
      "Try using .loc[row_indexer,col_indexer] = value instead\n",
      "\n",
      "See the caveats in the documentation: https://pandas.pydata.org/pandas-docs/stable/user_guide/indexing.html#returning-a-view-versus-a-copy\n",
      "  dataset_3.location=dataset_3.location.apply(lambda x: x.strip())\n"
     ]
    }
   ],
   "source": [
    "dataset_3.location=dataset_3.location.apply(lambda x: x.strip())\n",
    "\n",
    "location_stats = dataset_3.groupby('location')['location'].agg('count').sort_values(ascending=False)\n",
    "print(location_stats)"
   ]
  },
  {
   "cell_type": "code",
   "execution_count": 31,
   "id": "faa27caf-8dd5-4fc7-af89-365f9868d743",
   "metadata": {},
   "outputs": [
    {
     "data": {
      "text/plain": [
       "157"
      ]
     },
     "execution_count": 31,
     "metadata": {},
     "output_type": "execute_result"
    }
   ],
   "source": [
    "len(location_stats[location_stats==1])"
   ]
  },
  {
   "cell_type": "code",
   "execution_count": 33,
   "id": "d90a5413-6f8e-495f-bf69-14e25783a9c0",
   "metadata": {},
   "outputs": [
    {
     "data": {
      "text/plain": [
       "location\n",
       "Uttam Nagar West                                        5\n",
       "Vikram Vihar, Lajpat Nagar                              5\n",
       "Geeta Colony                                            5\n",
       "Panchsheel Vihar, Sheikh Sarai                          5\n",
       "Arjun Nagar, Safdarjung Enclave                         5\n",
       "                                                       ..\n",
       "Defence Officers Apartment, Aashirwaad Chowk, Dwarka    1\n",
       "Dda Janta Flats, Kalkaji                                1\n",
       "Patel Nagar South, Patel Nagar                          1\n",
       "Dayanand Colony, Lajpat Nagar                           1\n",
       "Zakir Nagar, New Friends Colony                         1\n",
       "Name: location, Length: 273, dtype: int64"
      ]
     },
     "execution_count": 33,
     "metadata": {},
     "output_type": "execute_result"
    }
   ],
   "source": [
    "location_stats_less_than_5 = location_stats[location_stats<=5]\n",
    "location_stats_less_than_5"
   ]
  },
  {
   "cell_type": "code",
   "execution_count": 35,
   "id": "b516ffe1-206d-4ab7-996f-1f11a754eb8c",
   "metadata": {},
   "outputs": [
    {
     "data": {
      "text/html": [
       "<div>\n",
       "<style scoped>\n",
       "    .dataframe tbody tr th:only-of-type {\n",
       "        vertical-align: middle;\n",
       "    }\n",
       "\n",
       "    .dataframe tbody tr th {\n",
       "        vertical-align: top;\n",
       "    }\n",
       "\n",
       "    .dataframe thead th {\n",
       "        text-align: right;\n",
       "    }\n",
       "</style>\n",
       "<table border=\"1\" class=\"dataframe\">\n",
       "  <thead>\n",
       "    <tr style=\"text-align: right;\">\n",
       "      <th></th>\n",
       "      <th>location</th>\n",
       "      <th>size(in BHK)</th>\n",
       "      <th>total_sqft</th>\n",
       "      <th>bath</th>\n",
       "      <th>price</th>\n",
       "      <th>price_per_sqft</th>\n",
       "    </tr>\n",
       "  </thead>\n",
       "  <tbody>\n",
       "    <tr>\n",
       "      <th>0</th>\n",
       "      <td>Rohini Sector 25</td>\n",
       "      <td>3</td>\n",
       "      <td>800.00</td>\n",
       "      <td>2.00</td>\n",
       "      <td>6500000</td>\n",
       "      <td>8125.00</td>\n",
       "    </tr>\n",
       "    <tr>\n",
       "      <th>1</th>\n",
       "      <td>J R Designers Floors, Rohini Sector 24</td>\n",
       "      <td>2</td>\n",
       "      <td>750.00</td>\n",
       "      <td>2.00</td>\n",
       "      <td>5000000</td>\n",
       "      <td>6666.67</td>\n",
       "    </tr>\n",
       "    <tr>\n",
       "      <th>2</th>\n",
       "      <td>Citizen Apartment, Rohini Sector 13</td>\n",
       "      <td>2</td>\n",
       "      <td>950.00</td>\n",
       "      <td>2.00</td>\n",
       "      <td>15500000</td>\n",
       "      <td>16315.79</td>\n",
       "    </tr>\n",
       "    <tr>\n",
       "      <th>3</th>\n",
       "      <td>Rohini Sector 24</td>\n",
       "      <td>2</td>\n",
       "      <td>600.00</td>\n",
       "      <td>2.00</td>\n",
       "      <td>4200000</td>\n",
       "      <td>7000.00</td>\n",
       "    </tr>\n",
       "    <tr>\n",
       "      <th>4</th>\n",
       "      <td>Rohini Sector 24</td>\n",
       "      <td>2</td>\n",
       "      <td>650.00</td>\n",
       "      <td>2.00</td>\n",
       "      <td>6200000</td>\n",
       "      <td>9538.46</td>\n",
       "    </tr>\n",
       "    <tr>\n",
       "      <th>5</th>\n",
       "      <td>Rohini Sector 24</td>\n",
       "      <td>4</td>\n",
       "      <td>1300.00</td>\n",
       "      <td>3.00</td>\n",
       "      <td>15500000</td>\n",
       "      <td>11923.08</td>\n",
       "    </tr>\n",
       "    <tr>\n",
       "      <th>6</th>\n",
       "      <td>Rohini Sector 24</td>\n",
       "      <td>4</td>\n",
       "      <td>1350.00</td>\n",
       "      <td>3.00</td>\n",
       "      <td>10000000</td>\n",
       "      <td>7407.41</td>\n",
       "    </tr>\n",
       "    <tr>\n",
       "      <th>7</th>\n",
       "      <td>Delhi Homes, Rohini Sector 24</td>\n",
       "      <td>2</td>\n",
       "      <td>650.00</td>\n",
       "      <td>2.00</td>\n",
       "      <td>4000000</td>\n",
       "      <td>6153.85</td>\n",
       "    </tr>\n",
       "    <tr>\n",
       "      <th>8</th>\n",
       "      <td>Rohini Sector 21</td>\n",
       "      <td>3</td>\n",
       "      <td>985.00</td>\n",
       "      <td>3.00</td>\n",
       "      <td>6800000</td>\n",
       "      <td>6903.55</td>\n",
       "    </tr>\n",
       "    <tr>\n",
       "      <th>9</th>\n",
       "      <td>Rohini Sector 22</td>\n",
       "      <td>4</td>\n",
       "      <td>1300.00</td>\n",
       "      <td>4.00</td>\n",
       "      <td>15000000</td>\n",
       "      <td>11538.46</td>\n",
       "    </tr>\n",
       "  </tbody>\n",
       "</table>\n",
       "</div>"
      ],
      "text/plain": [
       "                                 location  size(in BHK)  total_sqft  bath  \\\n",
       "0                        Rohini Sector 25             3      800.00  2.00   \n",
       "1  J R Designers Floors, Rohini Sector 24             2      750.00  2.00   \n",
       "2     Citizen Apartment, Rohini Sector 13             2      950.00  2.00   \n",
       "3                        Rohini Sector 24             2      600.00  2.00   \n",
       "4                        Rohini Sector 24             2      650.00  2.00   \n",
       "5                        Rohini Sector 24             4     1300.00  3.00   \n",
       "6                        Rohini Sector 24             4     1350.00  3.00   \n",
       "7           Delhi Homes, Rohini Sector 24             2      650.00  2.00   \n",
       "8                        Rohini Sector 21             3      985.00  3.00   \n",
       "9                        Rohini Sector 22             4     1300.00  4.00   \n",
       "\n",
       "      price  price_per_sqft  \n",
       "0   6500000         8125.00  \n",
       "1   5000000         6666.67  \n",
       "2  15500000        16315.79  \n",
       "3   4200000         7000.00  \n",
       "4   6200000         9538.46  \n",
       "5  15500000        11923.08  \n",
       "6  10000000         7407.41  \n",
       "7   4000000         6153.85  \n",
       "8   6800000         6903.55  \n",
       "9  15000000        11538.46  "
      ]
     },
     "execution_count": 35,
     "metadata": {},
     "output_type": "execute_result"
    }
   ],
   "source": [
    "dataset_3.head(10)"
   ]
  },
  {
   "cell_type": "code",
   "execution_count": 37,
   "id": "c0613c92-9658-47fa-a63e-90855e916792",
   "metadata": {},
   "outputs": [
    {
     "data": {
      "text/plain": [
       "count     1256.00\n",
       "mean     14584.75\n",
       "std      20442.13\n",
       "min        204.08\n",
       "25%       6750.00\n",
       "50%      11666.67\n",
       "75%      17546.78\n",
       "max     538461.54\n",
       "Name: price_per_sqft, dtype: float64"
      ]
     },
     "execution_count": 37,
     "metadata": {},
     "output_type": "execute_result"
    }
   ],
   "source": [
    "dataset_3.price_per_sqft.describe()"
   ]
  },
  {
   "cell_type": "code",
   "execution_count": 39,
   "id": "c3a7d57a-ff73-4c22-a47d-b66e59c54cd3",
   "metadata": {},
   "outputs": [
    {
     "data": {
      "text/plain": [
       "(714, 6)"
      ]
     },
     "execution_count": 39,
     "metadata": {},
     "output_type": "execute_result"
    }
   ],
   "source": [
    "def remove_pps_outliers(df):\n",
    "    df_out = pd.DataFrame()\n",
    "    for key, subdf in df.groupby('location'):\n",
    "        m = np.mean(subdf.price_per_sqft)\n",
    "        st = np.std(subdf.price_per_sqft)\n",
    "        reduced_df = subdf[(subdf.price_per_sqft>(m-st)) & (subdf.price_per_sqft<=(m+st))]\n",
    "        df_out = pd.concat([df_out,reduced_df],ignore_index=True)\n",
    "    return df_out\n",
    "\n",
    "dataset_4 = remove_pps_outliers(dataset_3)\n",
    "dataset_4.shape"
   ]
  },
  {
   "cell_type": "code",
   "execution_count": 41,
   "id": "ef2b85b8-6a35-4b91-af20-ada1cff2ea0a",
   "metadata": {},
   "outputs": [
    {
     "data": {
      "text/html": [
       "<div>\n",
       "<style scoped>\n",
       "    .dataframe tbody tr th:only-of-type {\n",
       "        vertical-align: middle;\n",
       "    }\n",
       "\n",
       "    .dataframe tbody tr th {\n",
       "        vertical-align: top;\n",
       "    }\n",
       "\n",
       "    .dataframe thead th {\n",
       "        text-align: right;\n",
       "    }\n",
       "</style>\n",
       "<table border=\"1\" class=\"dataframe\">\n",
       "  <thead>\n",
       "    <tr style=\"text-align: right;\">\n",
       "      <th></th>\n",
       "      <th>location</th>\n",
       "      <th>bhk</th>\n",
       "      <th>total_sqft</th>\n",
       "      <th>bath</th>\n",
       "      <th>price</th>\n",
       "      <th>price_per_sqft</th>\n",
       "    </tr>\n",
       "  </thead>\n",
       "  <tbody>\n",
       "    <tr>\n",
       "      <th>0</th>\n",
       "      <td>Aashirwaad Chowk, Dwarka</td>\n",
       "      <td>3</td>\n",
       "      <td>1470.00</td>\n",
       "      <td>2.00</td>\n",
       "      <td>14500000</td>\n",
       "      <td>9863.95</td>\n",
       "    </tr>\n",
       "    <tr>\n",
       "      <th>1</th>\n",
       "      <td>Aashirwaad Chowk, Dwarka</td>\n",
       "      <td>3</td>\n",
       "      <td>1500.00</td>\n",
       "      <td>2.00</td>\n",
       "      <td>14900000</td>\n",
       "      <td>9933.33</td>\n",
       "    </tr>\n",
       "    <tr>\n",
       "      <th>2</th>\n",
       "      <td>Aashirwaad Chowk, Dwarka</td>\n",
       "      <td>3</td>\n",
       "      <td>1700.00</td>\n",
       "      <td>3.00</td>\n",
       "      <td>17200000</td>\n",
       "      <td>10117.65</td>\n",
       "    </tr>\n",
       "    <tr>\n",
       "      <th>3</th>\n",
       "      <td>Abhimanyu Apartments, Vasundhara Enclave</td>\n",
       "      <td>3</td>\n",
       "      <td>1450.00</td>\n",
       "      <td>3.00</td>\n",
       "      <td>11600000</td>\n",
       "      <td>8000.00</td>\n",
       "    </tr>\n",
       "    <tr>\n",
       "      <th>4</th>\n",
       "      <td>Abul Fazal Enclave Part 1, Okhla</td>\n",
       "      <td>2</td>\n",
       "      <td>540.00</td>\n",
       "      <td>1.00</td>\n",
       "      <td>3600000</td>\n",
       "      <td>6666.67</td>\n",
       "    </tr>\n",
       "  </tbody>\n",
       "</table>\n",
       "</div>"
      ],
      "text/plain": [
       "                                   location  bhk  total_sqft  bath     price  \\\n",
       "0                  Aashirwaad Chowk, Dwarka    3     1470.00  2.00  14500000   \n",
       "1                  Aashirwaad Chowk, Dwarka    3     1500.00  2.00  14900000   \n",
       "2                  Aashirwaad Chowk, Dwarka    3     1700.00  3.00  17200000   \n",
       "3  Abhimanyu Apartments, Vasundhara Enclave    3     1450.00  3.00  11600000   \n",
       "4          Abul Fazal Enclave Part 1, Okhla    2      540.00  1.00   3600000   \n",
       "\n",
       "   price_per_sqft  \n",
       "0         9863.95  \n",
       "1         9933.33  \n",
       "2        10117.65  \n",
       "3         8000.00  \n",
       "4         6666.67  "
      ]
     },
     "execution_count": 41,
     "metadata": {},
     "output_type": "execute_result"
    }
   ],
   "source": [
    "dataset_4.rename(columns={'size(in BHK)': 'bhk'}, inplace=True)\n",
    "dataset_4.head()"
   ]
  },
  {
   "cell_type": "code",
   "execution_count": 47,
   "id": "89c13cf0-7941-45e9-a511-bb11c1a5d3db",
   "metadata": {},
   "outputs": [
    {
     "data": {
      "image/png": "[encoded data removed]",
      "text/plain": [
       "<Figure size 600x800 with 1 Axes>"
      ]
     },
     "metadata": {},
     "output_type": "display_data"
    }
   ],
   "source": [
    "import matplotlib \n",
    "def plot_scatter_chart(df,location):\n",
    "    bhk2 = df[(df.location==location)&(df.bhk==2)]\n",
    "    bhk3 = df[(df.location==location)&(df.bhk==3)]\n",
    "    bhk4 = df[(df.location==location)&(df.bhk==4)]\n",
    "    matplotlib.rcParams['figure.figsize'] = (6,8)\n",
    "    plt.scatter(bhk2.total_sqft,bhk2.price_per_sqft,color=\"green\",label=\"2 BHK\",s=50)\n",
    "    plt.scatter(bhk3.total_sqft,bhk3.price_per_sqft,color=\"red\",label=\"3 BHK\",s=50)\n",
    "    plt.scatter(bhk4.total_sqft,bhk4.price_per_sqft,color=\"blue\",label=\"4 BHK\",s=50)\n",
    "    plt.xlabel(\"Total Square feet Area\")\n",
    "    plt.ylabel(\"Price\")\n",
    "    plt.title(location)\n",
    "    plt.legend()\n",
    "\n",
    "plot_scatter_chart(dataset_4,\"Arjun Nagar, Safdarjung Enclave\")"
   ]
  },
  {
   "cell_type": "code",
   "execution_count": 49,
   "id": "1c12c469-5d9c-4038-878b-177f83cfaa2e",
   "metadata": {},
   "outputs": [
    {
     "data": {
      "text/plain": [
       "Text(0, 0.5, 'Count')"
      ]
     },
     "execution_count": 49,
     "metadata": {},
     "output_type": "execute_result"
    },
    {
     "data": {
      "image/png": "[encoded data removed]",
      "text/plain": [
       "<Figure size 800x400 with 1 Axes>"
      ]
     },
     "metadata": {},
     "output_type": "display_data"
    }
   ],
   "source": [
    "import matplotlib\n",
    "matplotlib.rcParams['figure.figsize']=(8,4)\n",
    "plt.hist(dataset_4.price_per_sqft,rwidth=0.8)\n",
    "plt.xlabel(\"price per sqft\")\n",
    "plt.ylabel(\"Count\")\n",
    "           \n"
   ]
  },
  {
   "cell_type": "code",
   "execution_count": 51,
   "id": "43fa738c-3e30-42a4-84a9-c2c6a5d26d38",
   "metadata": {},
   "outputs": [
    {
     "data": {
      "text/plain": [
       "array([2., 3., 1., 4., 5., 6., 7.])"
      ]
     },
     "execution_count": 51,
     "metadata": {},
     "output_type": "execute_result"
    }
   ],
   "source": [
    "dataset_4.bath.unique()"
   ]
  },
  {
   "cell_type": "code",
   "execution_count": 53,
   "id": "fa568902-a260-443f-84c8-6f2c3d2d50bb",
   "metadata": {},
   "outputs": [
    {
     "data": {
      "text/plain": [
       "Text(0, 0.5, 'count')"
      ]
     },
     "execution_count": 53,
     "metadata": {},
     "output_type": "execute_result"
    },
    {
     "data": {
      "image/png": "[encoded data removed]",
      "text/plain": [
       "<Figure size 800x400 with 1 Axes>"
      ]
     },
     "metadata": {},
     "output_type": "display_data"
    }
   ],
   "source": [
    "plt.hist(dataset_4.bath,rwidth=0.8)\n",
    "plt.xlabel(\"NO. of bathrooms\")\n",
    "plt.ylabel(\"count\")"
   ]
  },
  {
   "cell_type": "code",
   "execution_count": 55,
   "id": "02bf18c6-ced8-4973-a4f0-48c7c8143cfd",
   "metadata": {},
   "outputs": [],
   "source": [
    "# One-hot encoding of the 'location' column\n",
    "dummies=pd.get_dummies(dataset_4['location']).astype(int)\n"
   ]
  },
  {
   "cell_type": "code",
   "execution_count": 57,
   "id": "8ed256dc-5b54-483a-8991-517f4a338c17",
   "metadata": {},
   "outputs": [
    {
     "data": {
      "text/html": [
       "<div>\n",
       "<style scoped>\n",
       "    .dataframe tbody tr th:only-of-type {\n",
       "        vertical-align: middle;\n",
       "    }\n",
       "\n",
       "    .dataframe tbody tr th {\n",
       "        vertical-align: top;\n",
       "    }\n",
       "\n",
       "    .dataframe thead th {\n",
       "        text-align: right;\n",
       "    }\n",
       "</style>\n",
       "<table border=\"1\" class=\"dataframe\">\n",
       "  <thead>\n",
       "    <tr style=\"text-align: right;\">\n",
       "      <th></th>\n",
       "      <th>location</th>\n",
       "      <th>bhk</th>\n",
       "      <th>total_sqft</th>\n",
       "      <th>bath</th>\n",
       "      <th>price</th>\n",
       "      <th>price_per_sqft</th>\n",
       "      <th>Aashirwaad Chowk, Dwarka</th>\n",
       "      <th>Abhimanyu Apartments, Vasundhara Enclave</th>\n",
       "      <th>Abul Fazal Enclave Part 1, Okhla</th>\n",
       "      <th>Abul Fazal Enclave Part-II, Okhla</th>\n",
       "      <th>...</th>\n",
       "      <th>The Amaryllis, Karol Bagh</th>\n",
       "      <th>The Leela Sky Villas, Patel Nagar</th>\n",
       "      <th>Uttam Nagar</th>\n",
       "      <th>Uttam Nagar West</th>\n",
       "      <th>Vasant Kunj</th>\n",
       "      <th>Vasant Kunj Sector C</th>\n",
       "      <th>Vasundhara Enclave</th>\n",
       "      <th>Vikram Vihar, Lajpat Nagar</th>\n",
       "      <th>Vinoba Puri, Lajpat Nagar</th>\n",
       "      <th>Yamuna Vihar, Shahdara</th>\n",
       "    </tr>\n",
       "  </thead>\n",
       "  <tbody>\n",
       "    <tr>\n",
       "      <th>0</th>\n",
       "      <td>Aashirwaad Chowk, Dwarka</td>\n",
       "      <td>3</td>\n",
       "      <td>1470.00</td>\n",
       "      <td>2.00</td>\n",
       "      <td>14500000</td>\n",
       "      <td>9863.95</td>\n",
       "      <td>1</td>\n",
       "      <td>0</td>\n",
       "      <td>0</td>\n",
       "      <td>0</td>\n",
       "      <td>...</td>\n",
       "      <td>0</td>\n",
       "      <td>0</td>\n",
       "      <td>0</td>\n",
       "      <td>0</td>\n",
       "      <td>0</td>\n",
       "      <td>0</td>\n",
       "      <td>0</td>\n",
       "      <td>0</td>\n",
       "      <td>0</td>\n",
       "      <td>0</td>\n",
       "    </tr>\n",
       "    <tr>\n",
       "      <th>1</th>\n",
       "      <td>Aashirwaad Chowk, Dwarka</td>\n",
       "      <td>3</td>\n",
       "      <td>1500.00</td>\n",
       "      <td>2.00</td>\n",
       "      <td>14900000</td>\n",
       "      <td>9933.33</td>\n",
       "      <td>1</td>\n",
       "      <td>0</td>\n",
       "      <td>0</td>\n",
       "      <td>0</td>\n",
       "      <td>...</td>\n",
       "      <td>0</td>\n",
       "      <td>0</td>\n",
       "      <td>0</td>\n",
       "      <td>0</td>\n",
       "      <td>0</td>\n",
       "      <td>0</td>\n",
       "      <td>0</td>\n",
       "      <td>0</td>\n",
       "      <td>0</td>\n",
       "      <td>0</td>\n",
       "    </tr>\n",
       "    <tr>\n",
       "      <th>2</th>\n",
       "      <td>Aashirwaad Chowk, Dwarka</td>\n",
       "      <td>3</td>\n",
       "      <td>1700.00</td>\n",
       "      <td>3.00</td>\n",
       "      <td>17200000</td>\n",
       "      <td>10117.65</td>\n",
       "      <td>1</td>\n",
       "      <td>0</td>\n",
       "      <td>0</td>\n",
       "      <td>0</td>\n",
       "      <td>...</td>\n",
       "      <td>0</td>\n",
       "      <td>0</td>\n",
       "      <td>0</td>\n",
       "      <td>0</td>\n",
       "      <td>0</td>\n",
       "      <td>0</td>\n",
       "      <td>0</td>\n",
       "      <td>0</td>\n",
       "      <td>0</td>\n",
       "      <td>0</td>\n",
       "    </tr>\n",
       "    <tr>\n",
       "      <th>3</th>\n",
       "      <td>Abhimanyu Apartments, Vasundhara Enclave</td>\n",
       "      <td>3</td>\n",
       "      <td>1450.00</td>\n",
       "      <td>3.00</td>\n",
       "      <td>11600000</td>\n",
       "      <td>8000.00</td>\n",
       "      <td>0</td>\n",
       "      <td>1</td>\n",
       "      <td>0</td>\n",
       "      <td>0</td>\n",
       "      <td>...</td>\n",
       "      <td>0</td>\n",
       "      <td>0</td>\n",
       "      <td>0</td>\n",
       "      <td>0</td>\n",
       "      <td>0</td>\n",
       "      <td>0</td>\n",
       "      <td>0</td>\n",
       "      <td>0</td>\n",
       "      <td>0</td>\n",
       "      <td>0</td>\n",
       "    </tr>\n",
       "    <tr>\n",
       "      <th>4</th>\n",
       "      <td>Abul Fazal Enclave Part 1, Okhla</td>\n",
       "      <td>2</td>\n",
       "      <td>540.00</td>\n",
       "      <td>1.00</td>\n",
       "      <td>3600000</td>\n",
       "      <td>6666.67</td>\n",
       "      <td>0</td>\n",
       "      <td>0</td>\n",
       "      <td>1</td>\n",
       "      <td>0</td>\n",
       "      <td>...</td>\n",
       "      <td>0</td>\n",
       "      <td>0</td>\n",
       "      <td>0</td>\n",
       "      <td>0</td>\n",
       "      <td>0</td>\n",
       "      <td>0</td>\n",
       "      <td>0</td>\n",
       "      <td>0</td>\n",
       "      <td>0</td>\n",
       "      <td>0</td>\n",
       "    </tr>\n",
       "  </tbody>\n",
       "</table>\n",
       "<p>5 rows × 149 columns</p>\n",
       "</div>"
      ],
      "text/plain": [
       "                                   location  bhk  total_sqft  bath     price  \\\n",
       "0                  Aashirwaad Chowk, Dwarka    3     1470.00  2.00  14500000   \n",
       "1                  Aashirwaad Chowk, Dwarka    3     1500.00  2.00  14900000   \n",
       "2                  Aashirwaad Chowk, Dwarka    3     1700.00  3.00  17200000   \n",
       "3  Abhimanyu Apartments, Vasundhara Enclave    3     1450.00  3.00  11600000   \n",
       "4          Abul Fazal Enclave Part 1, Okhla    2      540.00  1.00   3600000   \n",
       "\n",
       "   price_per_sqft  Aashirwaad Chowk, Dwarka  \\\n",
       "0         9863.95                         1   \n",
       "1         9933.33                         1   \n",
       "2        10117.65                         1   \n",
       "3         8000.00                         0   \n",
       "4         6666.67                         0   \n",
       "\n",
       "   Abhimanyu Apartments, Vasundhara Enclave  Abul Fazal Enclave Part 1, Okhla  \\\n",
       "0                                         0                                 0   \n",
       "1                                         0                                 0   \n",
       "2                                         0                                 0   \n",
       "3                                         1                                 0   \n",
       "4                                         0                                 1   \n",
       "\n",
       "   Abul Fazal Enclave Part-II, Okhla  ...  The Amaryllis, Karol Bagh  \\\n",
       "0                                  0  ...                          0   \n",
       "1                                  0  ...                          0   \n",
       "2                                  0  ...                          0   \n",
       "3                                  0  ...                          0   \n",
       "4                                  0  ...                          0   \n",
       "\n",
       "   The Leela Sky Villas, Patel Nagar  Uttam Nagar  Uttam Nagar West  \\\n",
       "0                                  0            0                 0   \n",
       "1                                  0            0                 0   \n",
       "2                                  0            0                 0   \n",
       "3                                  0            0                 0   \n",
       "4                                  0            0                 0   \n",
       "\n",
       "   Vasant Kunj  Vasant Kunj Sector C  Vasundhara Enclave  \\\n",
       "0            0                     0                   0   \n",
       "1            0                     0                   0   \n",
       "2            0                     0                   0   \n",
       "3            0                     0                   0   \n",
       "4            0                     0                   0   \n",
       "\n",
       "   Vikram Vihar, Lajpat Nagar  Vinoba Puri, Lajpat Nagar  \\\n",
       "0                           0                          0   \n",
       "1                           0                          0   \n",
       "2                           0                          0   \n",
       "3                           0                          0   \n",
       "4                           0                          0   \n",
       "\n",
       "   Yamuna Vihar, Shahdara  \n",
       "0                       0  \n",
       "1                       0  \n",
       "2                       0  \n",
       "3                       0  \n",
       "4                       0  \n",
       "\n",
       "[5 rows x 149 columns]"
      ]
     },
     "execution_count": 57,
     "metadata": {},
     "output_type": "execute_result"
    }
   ],
   "source": [
    "# Combine the original DataFrame with the new one-hot encoded columns\n",
    "dataset_5 = pd.concat([dataset_4, dummies], axis=1)\n",
    "dataset_5.head(5)"
   ]
  },
  {
   "cell_type": "code",
   "execution_count": 59,
   "id": "ba77ff8b-dda9-4a54-a0e9-eb398a29f9ba",
   "metadata": {},
   "outputs": [
    {
     "data": {
      "text/html": [
       "<div>\n",
       "<style scoped>\n",
       "    .dataframe tbody tr th:only-of-type {\n",
       "        vertical-align: middle;\n",
       "    }\n",
       "\n",
       "    .dataframe tbody tr th {\n",
       "        vertical-align: top;\n",
       "    }\n",
       "\n",
       "    .dataframe thead th {\n",
       "        text-align: right;\n",
       "    }\n",
       "</style>\n",
       "<table border=\"1\" class=\"dataframe\">\n",
       "  <thead>\n",
       "    <tr style=\"text-align: right;\">\n",
       "      <th></th>\n",
       "      <th>bhk</th>\n",
       "      <th>total_sqft</th>\n",
       "      <th>bath</th>\n",
       "      <th>price</th>\n",
       "      <th>price_per_sqft</th>\n",
       "      <th>Aashirwaad Chowk, Dwarka</th>\n",
       "      <th>Abhimanyu Apartments, Vasundhara Enclave</th>\n",
       "      <th>Abul Fazal Enclave Part 1, Okhla</th>\n",
       "      <th>Abul Fazal Enclave Part-II, Okhla</th>\n",
       "      <th>Alaknanda</th>\n",
       "      <th>...</th>\n",
       "      <th>The Amaryllis, Karol Bagh</th>\n",
       "      <th>The Leela Sky Villas, Patel Nagar</th>\n",
       "      <th>Uttam Nagar</th>\n",
       "      <th>Uttam Nagar West</th>\n",
       "      <th>Vasant Kunj</th>\n",
       "      <th>Vasant Kunj Sector C</th>\n",
       "      <th>Vasundhara Enclave</th>\n",
       "      <th>Vikram Vihar, Lajpat Nagar</th>\n",
       "      <th>Vinoba Puri, Lajpat Nagar</th>\n",
       "      <th>Yamuna Vihar, Shahdara</th>\n",
       "    </tr>\n",
       "  </thead>\n",
       "  <tbody>\n",
       "    <tr>\n",
       "      <th>0</th>\n",
       "      <td>3</td>\n",
       "      <td>1470.00</td>\n",
       "      <td>2.00</td>\n",
       "      <td>14500000</td>\n",
       "      <td>9863.95</td>\n",
       "      <td>1</td>\n",
       "      <td>0</td>\n",
       "      <td>0</td>\n",
       "      <td>0</td>\n",
       "      <td>0</td>\n",
       "      <td>...</td>\n",
       "      <td>0</td>\n",
       "      <td>0</td>\n",
       "      <td>0</td>\n",
       "      <td>0</td>\n",
       "      <td>0</td>\n",
       "      <td>0</td>\n",
       "      <td>0</td>\n",
       "      <td>0</td>\n",
       "      <td>0</td>\n",
       "      <td>0</td>\n",
       "    </tr>\n",
       "    <tr>\n",
       "      <th>1</th>\n",
       "      <td>3</td>\n",
       "      <td>1500.00</td>\n",
       "      <td>2.00</td>\n",
       "      <td>14900000</td>\n",
       "      <td>9933.33</td>\n",
       "      <td>1</td>\n",
       "      <td>0</td>\n",
       "      <td>0</td>\n",
       "      <td>0</td>\n",
       "      <td>0</td>\n",
       "      <td>...</td>\n",
       "      <td>0</td>\n",
       "      <td>0</td>\n",
       "      <td>0</td>\n",
       "      <td>0</td>\n",
       "      <td>0</td>\n",
       "      <td>0</td>\n",
       "      <td>0</td>\n",
       "      <td>0</td>\n",
       "      <td>0</td>\n",
       "      <td>0</td>\n",
       "    </tr>\n",
       "  </tbody>\n",
       "</table>\n",
       "<p>2 rows × 148 columns</p>\n",
       "</div>"
      ],
      "text/plain": [
       "   bhk  total_sqft  bath     price  price_per_sqft  Aashirwaad Chowk, Dwarka  \\\n",
       "0    3     1470.00  2.00  14500000         9863.95                         1   \n",
       "1    3     1500.00  2.00  14900000         9933.33                         1   \n",
       "\n",
       "   Abhimanyu Apartments, Vasundhara Enclave  Abul Fazal Enclave Part 1, Okhla  \\\n",
       "0                                         0                                 0   \n",
       "1                                         0                                 0   \n",
       "\n",
       "   Abul Fazal Enclave Part-II, Okhla  Alaknanda  ...  \\\n",
       "0                                  0          0  ...   \n",
       "1                                  0          0  ...   \n",
       "\n",
       "   The Amaryllis, Karol Bagh  The Leela Sky Villas, Patel Nagar  Uttam Nagar  \\\n",
       "0                          0                                  0            0   \n",
       "1                          0                                  0            0   \n",
       "\n",
       "   Uttam Nagar West  Vasant Kunj  Vasant Kunj Sector C  Vasundhara Enclave  \\\n",
       "0                 0            0                     0                   0   \n",
       "1                 0            0                     0                   0   \n",
       "\n",
       "   Vikram Vihar, Lajpat Nagar  Vinoba Puri, Lajpat Nagar  \\\n",
       "0                           0                          0   \n",
       "1                           0                          0   \n",
       "\n",
       "   Yamuna Vihar, Shahdara  \n",
       "0                       0  \n",
       "1                       0  \n",
       "\n",
       "[2 rows x 148 columns]"
      ]
     },
     "execution_count": 59,
     "metadata": {},
     "output_type": "execute_result"
    }
   ],
   "source": [
    "# Optionally drop the original 'location' column if you no longer need it\n",
    "dataset_5 = dataset_5.drop('location', axis=1)\n",
    "dataset_5.head(2)"
   ]
  },
  {
   "cell_type": "code",
   "execution_count": 61,
   "id": "e5ac4e01-b5a6-4f36-8d21-37561e6014fc",
   "metadata": {},
   "outputs": [
    {
     "data": {
      "text/plain": [
       "(714, 148)"
      ]
     },
     "execution_count": 61,
     "metadata": {},
     "output_type": "execute_result"
    }
   ],
   "source": [
    "dataset_5.shape"
   ]
  },
  {
   "cell_type": "code",
   "execution_count": 63,
   "id": "96ef5b95-fbb1-4fe9-a51e-ec6b69998361",
   "metadata": {},
   "outputs": [],
   "source": [
    "## model building"
   ]
  },
  {
   "cell_type": "code",
   "execution_count": 65,
   "id": "51817e61-5cdf-4389-b865-1a03c7e4e28c",
   "metadata": {},
   "outputs": [
    {
     "data": {
      "text/html": [
       "<div>\n",
       "<style scoped>\n",
       "    .dataframe tbody tr th:only-of-type {\n",
       "        vertical-align: middle;\n",
       "    }\n",
       "\n",
       "    .dataframe tbody tr th {\n",
       "        vertical-align: top;\n",
       "    }\n",
       "\n",
       "    .dataframe thead th {\n",
       "        text-align: right;\n",
       "    }\n",
       "</style>\n",
       "<table border=\"1\" class=\"dataframe\">\n",
       "  <thead>\n",
       "    <tr style=\"text-align: right;\">\n",
       "      <th></th>\n",
       "      <th>bhk</th>\n",
       "      <th>total_sqft</th>\n",
       "      <th>bath</th>\n",
       "      <th>Aashirwaad Chowk, Dwarka</th>\n",
       "      <th>Abhimanyu Apartments, Vasundhara Enclave</th>\n",
       "      <th>Abul Fazal Enclave Part 1, Okhla</th>\n",
       "      <th>Abul Fazal Enclave Part-II, Okhla</th>\n",
       "      <th>Alaknanda</th>\n",
       "      <th>Amar Colony, Lajpat Nagar</th>\n",
       "      <th>Andheria Mor, Mehrauli</th>\n",
       "      <th>...</th>\n",
       "      <th>The Amaryllis, Karol Bagh</th>\n",
       "      <th>The Leela Sky Villas, Patel Nagar</th>\n",
       "      <th>Uttam Nagar</th>\n",
       "      <th>Uttam Nagar West</th>\n",
       "      <th>Vasant Kunj</th>\n",
       "      <th>Vasant Kunj Sector C</th>\n",
       "      <th>Vasundhara Enclave</th>\n",
       "      <th>Vikram Vihar, Lajpat Nagar</th>\n",
       "      <th>Vinoba Puri, Lajpat Nagar</th>\n",
       "      <th>Yamuna Vihar, Shahdara</th>\n",
       "    </tr>\n",
       "  </thead>\n",
       "  <tbody>\n",
       "    <tr>\n",
       "      <th>0</th>\n",
       "      <td>3</td>\n",
       "      <td>1470.00</td>\n",
       "      <td>2.00</td>\n",
       "      <td>1</td>\n",
       "      <td>0</td>\n",
       "      <td>0</td>\n",
       "      <td>0</td>\n",
       "      <td>0</td>\n",
       "      <td>0</td>\n",
       "      <td>0</td>\n",
       "      <td>...</td>\n",
       "      <td>0</td>\n",
       "      <td>0</td>\n",
       "      <td>0</td>\n",
       "      <td>0</td>\n",
       "      <td>0</td>\n",
       "      <td>0</td>\n",
       "      <td>0</td>\n",
       "      <td>0</td>\n",
       "      <td>0</td>\n",
       "      <td>0</td>\n",
       "    </tr>\n",
       "    <tr>\n",
       "      <th>1</th>\n",
       "      <td>3</td>\n",
       "      <td>1500.00</td>\n",
       "      <td>2.00</td>\n",
       "      <td>1</td>\n",
       "      <td>0</td>\n",
       "      <td>0</td>\n",
       "      <td>0</td>\n",
       "      <td>0</td>\n",
       "      <td>0</td>\n",
       "      <td>0</td>\n",
       "      <td>...</td>\n",
       "      <td>0</td>\n",
       "      <td>0</td>\n",
       "      <td>0</td>\n",
       "      <td>0</td>\n",
       "      <td>0</td>\n",
       "      <td>0</td>\n",
       "      <td>0</td>\n",
       "      <td>0</td>\n",
       "      <td>0</td>\n",
       "      <td>0</td>\n",
       "    </tr>\n",
       "  </tbody>\n",
       "</table>\n",
       "<p>2 rows × 146 columns</p>\n",
       "</div>"
      ],
      "text/plain": [
       "   bhk  total_sqft  bath  Aashirwaad Chowk, Dwarka  \\\n",
       "0    3     1470.00  2.00                         1   \n",
       "1    3     1500.00  2.00                         1   \n",
       "\n",
       "   Abhimanyu Apartments, Vasundhara Enclave  Abul Fazal Enclave Part 1, Okhla  \\\n",
       "0                                         0                                 0   \n",
       "1                                         0                                 0   \n",
       "\n",
       "   Abul Fazal Enclave Part-II, Okhla  Alaknanda  Amar Colony, Lajpat Nagar  \\\n",
       "0                                  0          0                          0   \n",
       "1                                  0          0                          0   \n",
       "\n",
       "   Andheria Mor, Mehrauli  ...  The Amaryllis, Karol Bagh  \\\n",
       "0                       0  ...                          0   \n",
       "1                       0  ...                          0   \n",
       "\n",
       "   The Leela Sky Villas, Patel Nagar  Uttam Nagar  Uttam Nagar West  \\\n",
       "0                                  0            0                 0   \n",
       "1                                  0            0                 0   \n",
       "\n",
       "   Vasant Kunj  Vasant Kunj Sector C  Vasundhara Enclave  \\\n",
       "0            0                     0                   0   \n",
       "1            0                     0                   0   \n",
       "\n",
       "   Vikram Vihar, Lajpat Nagar  Vinoba Puri, Lajpat Nagar  \\\n",
       "0                           0                          0   \n",
       "1                           0                          0   \n",
       "\n",
       "   Yamuna Vihar, Shahdara  \n",
       "0                       0  \n",
       "1                       0  \n",
       "\n",
       "[2 rows x 146 columns]"
      ]
     },
     "execution_count": 65,
     "metadata": {},
     "output_type": "execute_result"
    }
   ],
   "source": [
    "X = dataset_5.drop(['price','price_per_sqft'],axis='columns')\n",
    "X.head(2)"
   ]
  },
  {
   "cell_type": "code",
   "execution_count": 67,
   "id": "6d43ee3d-c5bc-4791-8be0-343c34e5f76c",
   "metadata": {},
   "outputs": [
    {
     "data": {
      "text/plain": [
       "0    14500000\n",
       "1    14900000\n",
       "Name: price, dtype: int64"
      ]
     },
     "execution_count": 67,
     "metadata": {},
     "output_type": "execute_result"
    }
   ],
   "source": [
    "y = dataset_5.price\n",
    "y.head(2)"
   ]
  },
  {
   "cell_type": "code",
   "execution_count": 69,
   "id": "1ae30fdf-9209-4ade-8a11-44046d6f3566",
   "metadata": {},
   "outputs": [],
   "source": [
    "from sklearn.model_selection import train_test_split\n",
    "X_train, X_test, y_train, y_test = train_test_split(X,y,test_size=0.2,random_state=10)"
   ]
  },
  {
   "cell_type": "code",
   "execution_count": 70,
   "id": "611e151a-149b-4c94-9f1a-b408b10d8dbe",
   "metadata": {},
   "outputs": [
    {
     "name": "stdout",
     "output_type": "stream",
     "text": [
      "Random Forest R^2 Score: 0.6857643246053169\n"
     ]
    }
   ],
   "source": [
    "from sklearn.ensemble import RandomForestRegressor\n",
    "\n",
    "rf_classifier = RandomForestRegressor()\n",
    "rf_classifier.fit(X_train, y_train)\n",
    "rf_score = rf_classifier.score(X_test, y_test)\n",
    "print(f'Random Forest R^2 Score: {rf_score}')"
   ]
  },
  {
   "cell_type": "code",
   "execution_count": 71,
   "id": "e7882881-c3c2-4b7c-8276-4f5f30dccb40",
   "metadata": {},
   "outputs": [
    {
     "data": {
      "text/plain": [
       "array([0.82636567, 0.83017625, 0.79018283, 0.79772946, 0.75112904])"
      ]
     },
     "execution_count": 71,
     "metadata": {},
     "output_type": "execute_result"
    }
   ],
   "source": [
    "from sklearn.model_selection import ShuffleSplit\n",
    "from sklearn.model_selection import cross_val_score\n",
    "\n",
    "cv = ShuffleSplit(n_splits=5, test_size=0.2, random_state=0)\n",
    "\n",
    "cross_val_score(RandomForestRegressor(),X,y,cv=cv)"
   ]
  },
  {
   "cell_type": "code",
   "execution_count": 72,
   "id": "3dd55c7b-3923-4b7e-b466-5e300a84ee4c",
   "metadata": {},
   "outputs": [
    {
     "name": "stderr",
     "output_type": "stream",
     "text": [
      "C:\\Users\\91838\\anaconda3\\Lib\\site-packages\\sklearn\\linear_model\\_coordinate_descent.py:697: ConvergenceWarning: Objective did not converge. You might want to increase the number of iterations, check the scale of the features or consider increasing regularisation. Duality gap: 9.152e+15, tolerance: 2.872e+13\n",
      "  model = cd_fast.enet_coordinate_descent(\n",
      "C:\\Users\\91838\\anaconda3\\Lib\\site-packages\\sklearn\\linear_model\\_coordinate_descent.py:697: ConvergenceWarning: Objective did not converge. You might want to increase the number of iterations, check the scale of the features or consider increasing regularisation. Duality gap: 1.600e+16, tolerance: 2.784e+13\n",
      "  model = cd_fast.enet_coordinate_descent(\n",
      "C:\\Users\\91838\\anaconda3\\Lib\\site-packages\\sklearn\\linear_model\\_coordinate_descent.py:697: ConvergenceWarning: Objective did not converge. You might want to increase the number of iterations, check the scale of the features or consider increasing regularisation. Duality gap: 1.135e+16, tolerance: 2.481e+13\n",
      "  model = cd_fast.enet_coordinate_descent(\n",
      "C:\\Users\\91838\\anaconda3\\Lib\\site-packages\\sklearn\\linear_model\\_coordinate_descent.py:697: ConvergenceWarning: Objective did not converge. You might want to increase the number of iterations, check the scale of the features or consider increasing regularisation. Duality gap: 1.328e+16, tolerance: 2.501e+13\n",
      "  model = cd_fast.enet_coordinate_descent(\n",
      "C:\\Users\\91838\\anaconda3\\Lib\\site-packages\\sklearn\\linear_model\\_coordinate_descent.py:697: ConvergenceWarning: Objective did not converge. You might want to increase the number of iterations, check the scale of the features or consider increasing regularisation. Duality gap: 1.270e+16, tolerance: 2.859e+13\n",
      "  model = cd_fast.enet_coordinate_descent(\n",
      "C:\\Users\\91838\\anaconda3\\Lib\\site-packages\\sklearn\\linear_model\\_coordinate_descent.py:697: ConvergenceWarning: Objective did not converge. You might want to increase the number of iterations, check the scale of the features or consider increasing regularisation. Duality gap: 5.673e+15, tolerance: 2.872e+13\n",
      "  model = cd_fast.enet_coordinate_descent(\n",
      "C:\\Users\\91838\\anaconda3\\Lib\\site-packages\\sklearn\\linear_model\\_coordinate_descent.py:697: ConvergenceWarning: Objective did not converge. You might want to increase the number of iterations, check the scale of the features or consider increasing regularisation. Duality gap: 8.196e+15, tolerance: 2.784e+13\n",
      "  model = cd_fast.enet_coordinate_descent(\n",
      "C:\\Users\\91838\\anaconda3\\Lib\\site-packages\\sklearn\\linear_model\\_coordinate_descent.py:697: ConvergenceWarning: Objective did not converge. You might want to increase the number of iterations, check the scale of the features or consider increasing regularisation. Duality gap: 6.726e+15, tolerance: 2.481e+13\n",
      "  model = cd_fast.enet_coordinate_descent(\n",
      "C:\\Users\\91838\\anaconda3\\Lib\\site-packages\\sklearn\\linear_model\\_coordinate_descent.py:697: ConvergenceWarning: Objective did not converge. You might want to increase the number of iterations, check the scale of the features or consider increasing regularisation. Duality gap: 6.405e+15, tolerance: 2.501e+13\n",
      "  model = cd_fast.enet_coordinate_descent(\n",
      "C:\\Users\\91838\\anaconda3\\Lib\\site-packages\\sklearn\\linear_model\\_coordinate_descent.py:697: ConvergenceWarning: Objective did not converge. You might want to increase the number of iterations, check the scale of the features or consider increasing regularisation. Duality gap: 6.178e+15, tolerance: 2.859e+13\n",
      "  model = cd_fast.enet_coordinate_descent(\n",
      "C:\\Users\\91838\\anaconda3\\Lib\\site-packages\\sklearn\\linear_model\\_coordinate_descent.py:697: ConvergenceWarning: Objective did not converge. You might want to increase the number of iterations, check the scale of the features or consider increasing regularisation. Duality gap: 1.252e+16, tolerance: 2.872e+13\n",
      "  model = cd_fast.enet_coordinate_descent(\n",
      "C:\\Users\\91838\\anaconda3\\Lib\\site-packages\\sklearn\\linear_model\\_coordinate_descent.py:697: ConvergenceWarning: Objective did not converge. You might want to increase the number of iterations, check the scale of the features or consider increasing regularisation. Duality gap: 1.600e+16, tolerance: 2.784e+13\n",
      "  model = cd_fast.enet_coordinate_descent(\n",
      "C:\\Users\\91838\\anaconda3\\Lib\\site-packages\\sklearn\\linear_model\\_coordinate_descent.py:697: ConvergenceWarning: Objective did not converge. You might want to increase the number of iterations, check the scale of the features or consider increasing regularisation. Duality gap: 1.140e+16, tolerance: 2.481e+13\n",
      "  model = cd_fast.enet_coordinate_descent(\n",
      "C:\\Users\\91838\\anaconda3\\Lib\\site-packages\\sklearn\\linear_model\\_coordinate_descent.py:697: ConvergenceWarning: Objective did not converge. You might want to increase the number of iterations, check the scale of the features or consider increasing regularisation. Duality gap: 1.236e+16, tolerance: 2.501e+13\n",
      "  model = cd_fast.enet_coordinate_descent(\n",
      "C:\\Users\\91838\\anaconda3\\Lib\\site-packages\\sklearn\\linear_model\\_coordinate_descent.py:697: ConvergenceWarning: Objective did not converge. You might want to increase the number of iterations, check the scale of the features or consider increasing regularisation. Duality gap: 1.260e+16, tolerance: 2.859e+13\n",
      "  model = cd_fast.enet_coordinate_descent(\n",
      "C:\\Users\\91838\\anaconda3\\Lib\\site-packages\\sklearn\\linear_model\\_coordinate_descent.py:697: ConvergenceWarning: Objective did not converge. You might want to increase the number of iterations, check the scale of the features or consider increasing regularisation. Duality gap: 5.673e+15, tolerance: 2.872e+13\n",
      "  model = cd_fast.enet_coordinate_descent(\n",
      "C:\\Users\\91838\\anaconda3\\Lib\\site-packages\\sklearn\\linear_model\\_coordinate_descent.py:697: ConvergenceWarning: Objective did not converge. You might want to increase the number of iterations, check the scale of the features or consider increasing regularisation. Duality gap: 8.197e+15, tolerance: 2.784e+13\n",
      "  model = cd_fast.enet_coordinate_descent(\n",
      "C:\\Users\\91838\\anaconda3\\Lib\\site-packages\\sklearn\\linear_model\\_coordinate_descent.py:697: ConvergenceWarning: Objective did not converge. You might want to increase the number of iterations, check the scale of the features or consider increasing regularisation. Duality gap: 6.598e+15, tolerance: 2.481e+13\n",
      "  model = cd_fast.enet_coordinate_descent(\n",
      "C:\\Users\\91838\\anaconda3\\Lib\\site-packages\\sklearn\\linear_model\\_coordinate_descent.py:697: ConvergenceWarning: Objective did not converge. You might want to increase the number of iterations, check the scale of the features or consider increasing regularisation. Duality gap: 6.405e+15, tolerance: 2.501e+13\n",
      "  model = cd_fast.enet_coordinate_descent(\n",
      "C:\\Users\\91838\\anaconda3\\Lib\\site-packages\\sklearn\\linear_model\\_coordinate_descent.py:697: ConvergenceWarning: Objective did not converge. You might want to increase the number of iterations, check the scale of the features or consider increasing regularisation. Duality gap: 5.995e+15, tolerance: 2.859e+13\n",
      "  model = cd_fast.enet_coordinate_descent(\n",
      "C:\\Users\\91838\\anaconda3\\Lib\\site-packages\\sklearn\\linear_model\\_coordinate_descent.py:697: ConvergenceWarning: Objective did not converge. You might want to increase the number of iterations, check the scale of the features or consider increasing regularisation. Duality gap: 1.838e+16, tolerance: 3.296e+13\n",
      "  model = cd_fast.enet_coordinate_descent(\n",
      "C:\\Users\\91838\\anaconda3\\Lib\\site-packages\\sklearn\\model_selection\\_validation.py:540: FitFailedWarning: \n",
      "10 fits failed out of a total of 20.\n",
      "The score on these train-test partitions for these parameters will be set to nan.\n",
      "If these failures are not expected, you can try to debug them by setting error_score='raise'.\n",
      "\n",
      "Below are more details about the failures:\n",
      "--------------------------------------------------------------------------------\n",
      "10 fits failed with the following error:\n",
      "Traceback (most recent call last):\n",
      "  File \"C:\\Users\\91838\\anaconda3\\Lib\\site-packages\\sklearn\\model_selection\\_validation.py\", line 888, in _fit_and_score\n",
      "    estimator.fit(X_train, y_train, **fit_params)\n",
      "  File \"C:\\Users\\91838\\anaconda3\\Lib\\site-packages\\sklearn\\base.py\", line 1466, in wrapper\n",
      "    estimator._validate_params()\n",
      "  File \"C:\\Users\\91838\\anaconda3\\Lib\\site-packages\\sklearn\\base.py\", line 666, in _validate_params\n",
      "    validate_parameter_constraints(\n",
      "  File \"C:\\Users\\91838\\anaconda3\\Lib\\site-packages\\sklearn\\utils\\_param_validation.py\", line 95, in validate_parameter_constraints\n",
      "    raise InvalidParameterError(\n",
      "sklearn.utils._param_validation.InvalidParameterError: The 'criterion' parameter of DecisionTreeRegressor must be a str among {'friedman_mse', 'poisson', 'absolute_error', 'squared_error'}. Got 'mse' instead.\n",
      "\n",
      "  warnings.warn(some_fits_failed_message, FitFailedWarning)\n",
      "C:\\Users\\91838\\anaconda3\\Lib\\site-packages\\sklearn\\model_selection\\_search.py:1102: UserWarning: One or more of the test scores are non-finite: [       nan        nan 0.62739504 0.76018968]\n",
      "  warnings.warn(\n",
      "C:\\Users\\91838\\anaconda3\\Lib\\site-packages\\sklearn\\model_selection\\_validation.py:540: FitFailedWarning: \n",
      "15 fits failed out of a total of 45.\n",
      "The score on these train-test partitions for these parameters will be set to nan.\n",
      "If these failures are not expected, you can try to debug them by setting error_score='raise'.\n",
      "\n",
      "Below are more details about the failures:\n",
      "--------------------------------------------------------------------------------\n",
      "15 fits failed with the following error:\n",
      "Traceback (most recent call last):\n",
      "  File \"C:\\Users\\91838\\anaconda3\\Lib\\site-packages\\sklearn\\model_selection\\_validation.py\", line 888, in _fit_and_score\n",
      "    estimator.fit(X_train, y_train, **fit_params)\n",
      "  File \"C:\\Users\\91838\\anaconda3\\Lib\\site-packages\\sklearn\\base.py\", line 1466, in wrapper\n",
      "    estimator._validate_params()\n",
      "  File \"C:\\Users\\91838\\anaconda3\\Lib\\site-packages\\sklearn\\base.py\", line 666, in _validate_params\n",
      "    validate_parameter_constraints(\n",
      "  File \"C:\\Users\\91838\\anaconda3\\Lib\\site-packages\\sklearn\\utils\\_param_validation.py\", line 95, in validate_parameter_constraints\n",
      "    raise InvalidParameterError(\n",
      "sklearn.utils._param_validation.InvalidParameterError: The 'max_features' parameter of RandomForestRegressor must be an int in the range [1, inf), a float in the range (0.0, 1.0], a str among {'log2', 'sqrt'} or None. Got 'auto' instead.\n",
      "\n",
      "  warnings.warn(some_fits_failed_message, FitFailedWarning)\n",
      "C:\\Users\\91838\\anaconda3\\Lib\\site-packages\\sklearn\\model_selection\\_search.py:1102: UserWarning: One or more of the test scores are non-finite: [       nan        nan        nan 0.84951497 0.84763433 0.84435685\n",
      " 0.83537147 0.85428986 0.84920945]\n",
      "  warnings.warn(\n"
     ]
    },
    {
     "data": {
      "text/html": [
       "<div>\n",
       "<style scoped>\n",
       "    .dataframe tbody tr th:only-of-type {\n",
       "        vertical-align: middle;\n",
       "    }\n",
       "\n",
       "    .dataframe tbody tr th {\n",
       "        vertical-align: top;\n",
       "    }\n",
       "\n",
       "    .dataframe thead th {\n",
       "        text-align: right;\n",
       "    }\n",
       "</style>\n",
       "<table border=\"1\" class=\"dataframe\">\n",
       "  <thead>\n",
       "    <tr style=\"text-align: right;\">\n",
       "      <th></th>\n",
       "      <th>model</th>\n",
       "      <th>best_score</th>\n",
       "      <th>best_params</th>\n",
       "    </tr>\n",
       "  </thead>\n",
       "  <tbody>\n",
       "    <tr>\n",
       "      <th>0</th>\n",
       "      <td>lasso</td>\n",
       "      <td>0.61</td>\n",
       "      <td>{'alpha': 1, 'selection': 'random'}</td>\n",
       "    </tr>\n",
       "    <tr>\n",
       "      <th>1</th>\n",
       "      <td>decision_tree</td>\n",
       "      <td>0.76</td>\n",
       "      <td>{'criterion': 'friedman_mse', 'splitter': 'ran...</td>\n",
       "    </tr>\n",
       "    <tr>\n",
       "      <th>2</th>\n",
       "      <td>random_forest</td>\n",
       "      <td>0.85</td>\n",
       "      <td>{'max_features': 'log2', 'n_estimators': 50}</td>\n",
       "    </tr>\n",
       "  </tbody>\n",
       "</table>\n",
       "</div>"
      ],
      "text/plain": [
       "           model  best_score  \\\n",
       "0          lasso        0.61   \n",
       "1  decision_tree        0.76   \n",
       "2  random_forest        0.85   \n",
       "\n",
       "                                         best_params  \n",
       "0                {'alpha': 1, 'selection': 'random'}  \n",
       "1  {'criterion': 'friedman_mse', 'splitter': 'ran...  \n",
       "2       {'max_features': 'log2', 'n_estimators': 50}  "
      ]
     },
     "execution_count": 72,
     "metadata": {},
     "output_type": "execute_result"
    }
   ],
   "source": [
    "from sklearn.model_selection import GridSearchCV, ShuffleSplit\n",
    "from sklearn.linear_model import Lasso\n",
    "from sklearn.tree import DecisionTreeRegressor\n",
    "from sklearn.ensemble import RandomForestRegressor\n",
    "import pandas as pd\n",
    "\n",
    "def find_best_model_using_gridsearchcv(X, y):\n",
    "    # Define models and their hyperparameters for tuning\n",
    "    algos = {\n",
    "        'lasso': {\n",
    "            'model': Lasso(), \n",
    "            'params': {\n",
    "                'alpha': [1, 2],\n",
    "                'selection': ['random', 'cyclic']\n",
    "            }\n",
    "        },\n",
    "        'decision_tree': {\n",
    "            'model': DecisionTreeRegressor(),\n",
    "            'params': {\n",
    "                'criterion': ['mse', 'friedman_mse'],\n",
    "                'splitter': ['best', 'random']\n",
    "            }\n",
    "        },\n",
    "        'random_forest': {  \n",
    "            'model': RandomForestRegressor(), \n",
    "            'params': {\n",
    "                'n_estimators': [10, 50, 100],\n",
    "                'max_features': ['auto', 'sqrt', 'log2']\n",
    "            }\n",
    "        }\n",
    "    }\n",
    "\n",
    "    scores = []\n",
    "    cv = ShuffleSplit(n_splits=5, test_size=0.2, random_state=0)\n",
    "\n",
    "    for algo_name, config in algos.items():\n",
    "        grid_search = GridSearchCV(\n",
    "            config['model'], \n",
    "            config['params'], \n",
    "            cv=cv, \n",
    "            return_train_score=False,\n",
    "            \n",
    "        )\n",
    "        grid_search.fit(X, y)  # Fit the model\n",
    "        \n",
    "        # Append the best score and parameters to scores\n",
    "        scores.append({\n",
    "            'model': algo_name,\n",
    "            'best_score': grid_search.best_score_,\n",
    "            'best_params': grid_search.best_params_,\n",
    "        })\n",
    "\n",
    "    return pd.DataFrame(scores, columns=['model', 'best_score', 'best_params'])\n",
    "\n",
    "find_best_model_using_gridsearchcv(X, y)\n",
    "\n"
   ]
  },
  {
   "cell_type": "code",
   "execution_count": 73,
   "id": "c37d28a4-6dea-482e-9b73-3a672bb7515f",
   "metadata": {},
   "outputs": [
    {
     "data": {
      "text/plain": [
       "Index(['bhk', 'total_sqft', 'bath', 'Aashirwaad Chowk, Dwarka',\n",
       "       'Abhimanyu Apartments, Vasundhara Enclave',\n",
       "       'Abul Fazal Enclave Part 1, Okhla', 'Abul Fazal Enclave Part-II, Okhla',\n",
       "       'Alaknanda', 'Amar Colony, Lajpat Nagar', 'Andheria Mor, Mehrauli',\n",
       "       ...\n",
       "       'The Amaryllis, Karol Bagh', 'The Leela Sky Villas, Patel Nagar',\n",
       "       'Uttam Nagar', 'Uttam Nagar West', 'Vasant Kunj',\n",
       "       'Vasant Kunj Sector C', 'Vasundhara Enclave',\n",
       "       'Vikram Vihar, Lajpat Nagar', 'Vinoba Puri, Lajpat Nagar',\n",
       "       'Yamuna Vihar, Shahdara'],\n",
       "      dtype='object', length=146)"
      ]
     },
     "execution_count": 73,
     "metadata": {},
     "output_type": "execute_result"
    }
   ],
   "source": [
    "X.columns"
   ]
  },
  {
   "cell_type": "code",
   "execution_count": 74,
   "id": "f690a1c5-d06a-4973-8e34-2c63abec4af3",
   "metadata": {},
   "outputs": [],
   "source": [
    "def predict_price(location,sqft,bath,bhk):\n",
    "    loc_index = np.where(X.columns==location)[0][0]\n",
    "    x=np.zeros(len(X.columns))\n",
    "    x[0]=bhk\n",
    "    x[1]=sqft\n",
    "    x[2]=bath\n",
    "    if loc_index >=0:\n",
    "        x[loc_index]=1\n",
    "\n",
    "    return rf_classifier.predict([x])[0]\n",
    "    "
   ]
  },
  {
   "cell_type": "code",
   "execution_count": 110,
   "id": "c0b6f54b-bec7-4f3b-bfbc-f80f6915fce2",
   "metadata": {},
   "outputs": [
    {
     "name": "stderr",
     "output_type": "stream",
     "text": [
      "C:\\Users\\91838\\anaconda3\\Lib\\site-packages\\sklearn\\base.py:493: UserWarning: X does not have valid feature names, but RandomForestRegressor was fitted with feature names\n",
      "  warnings.warn(\n"
     ]
    },
    {
     "data": {
      "text/plain": [
       "6234000.0"
      ]
     },
     "execution_count": 110,
     "metadata": {},
     "output_type": "execute_result"
    }
   ],
   "source": [
    "predict_price('Abul Fazal Enclave Part 1, Okhla',2,660,4)"
   ]
  },
  {
   "cell_type": "code",
   "execution_count": 98,
   "id": "50d0221e-3e41-4fec-9470-910fc360fbe3",
   "metadata": {},
   "outputs": [
    {
     "name": "stderr",
     "output_type": "stream",
     "text": [
      "C:\\Users\\91838\\anaconda3\\Lib\\site-packages\\sklearn\\base.py:493: UserWarning: X does not have valid feature names, but RandomForestRegressor was fitted with feature names\n",
      "  warnings.warn(\n"
     ]
    },
    {
     "data": {
      "text/plain": [
       "7017000.0"
      ]
     },
     "execution_count": 98,
     "metadata": {},
     "output_type": "execute_result"
    }
   ],
   "source": [
    "predict_price('Abul Fazal Enclave Part 1, Okhla',6,1470,6)"
   ]
  },
  {
   "cell_type": "code",
   "execution_count": 100,
   "id": "9f228384-be21-43bc-b6aa-98504c9fb9eb",
   "metadata": {},
   "outputs": [],
   "source": [
    "import pickle\n",
    "with open('delhi_home_prices_model.pickle','wb') as f:\n",
    "    pickle.dump(rf_classifier,f)"
   ]
  },
  {
   "cell_type": "code",
   "execution_count": 102,
   "id": "59ec0b3a-e0c4-4f3b-abe6-ebae9b67ab4b",
   "metadata": {},
   "outputs": [],
   "source": [
    "import json\n",
    "columns = {\n",
    "    'data_columns':[col.lower() for col in X.columns]\n",
    "}\n",
    "with open(\"columns.json\",\"w\") as f:\n",
    "    f.write(json.dumps(columns))"
   ]
  },
  {
   "cell_type": "code",
   "execution_count": null,
   "id": "d9c0ee6e-be61-4f70-b611-5dc2b1e96a52",
   "metadata": {},
   "outputs": [],
   "source": []
  }
 ],
 "metadata": {
  "kernelspec": {
   "display_name": "Python [conda env:base] *",
   "language": "python",
   "name": "conda-base-py"
  },
  "language_info": {
   "codemirror_mode": {
    "name": "ipython",
    "version": 3
   },
   "file_extension": ".py",
   "mimetype": "text/x-python",
   "name": "python",
   "nbconvert_exporter": "python",
   "pygments_lexer": "ipython3",
   "version": "3.12.7"
  }
 },
 "nbformat": 4,
 "nbformat_minor": 5
}
